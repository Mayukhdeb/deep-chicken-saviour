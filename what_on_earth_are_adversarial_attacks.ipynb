{
 "cells": [
  {
   "cell_type": "code",
   "execution_count": 225,
   "metadata": {
    "colab": {},
    "colab_type": "code",
    "id": "RoTjOwleYHzb"
   },
   "outputs": [],
   "source": [
    "import torch\n",
    "import torch.nn as nn\n",
    "import torch.nn.functional as F\n",
    "import torch.optim as optim\n",
    "from torchvision import datasets, transforms\n",
    "import numpy as np\n",
    "import matplotlib.pyplot as plt\n",
    "import  cv2\n",
    "\n",
    "animals = [\"chicken\", \"pig\", \"panda\", \"terrain\"]"
   ]
  },
  {
   "cell_type": "markdown",
   "metadata": {
    "colab_type": "text",
    "id": "7fayUwbiYg_p"
   },
   "source": [
    "# The primary idea is to maximise the loss on a certain image with minimal modifications \n",
    "\n",
    "## But for that we first have to know how does a model minimize loss first\n",
    "\n",
    "* Learning step 1 - The raw image is passed through the model, and it returns a label accordingly (`pred`)\n",
    "* Learning step 2 - The `pred` is then compared with the original `label` and a certain \"difference\" which is calculated with a fancy mathematical function depending upon the task at hand. \n",
    "> In our case it's `nn.CrossEntropyLoss()` because it's a classification  problem\n",
    "* Learning step 3 - the weights are adjusted in the network based on the backropagated gradients\n",
    "> The *change in the loss* for a *small change in an input weight* is called the gradient of that weight and is calculated using *backpropagation*  \n",
    "\n",
    "$$gradient = \\frac{\\partial (loss)}{\\partial (weight)}$$\n",
    "\n",
    "Now in the normal learning process, the weights are adjusted with respect to the gradient in order to minimise loss.\n",
    "\n",
    "But our objective is to maximise loss, and the key to that is **extracting the gradient**\n",
    "\n",
    "\n",
    "\n",
    "> `empty_tensor.random_(x)` returns a a random distribution ranged from 0 to x-1\n"
   ]
  },
  {
   "cell_type": "code",
   "execution_count": 179,
   "metadata": {
    "colab": {
     "base_uri": "https://localhost:8080/",
     "height": 69
    },
    "colab_type": "code",
    "id": "-h9dJsXgZR4O",
    "outputId": "5c291fa4-24b5-417c-c862-d8bc1065da76"
   },
   "outputs": [
    {
     "name": "stdout",
     "output_type": "stream",
     "text": [
      "predicted probability distribution of classes =  [1.0, 0.0]\n",
      "actual index of class =  1\n",
      "loss =  tensor(1.3133, grad_fn=<NllLossBackward>)\n"
     ]
    }
   ],
   "source": [
    "# loss func\n",
    "loss = nn.CrossEntropyLoss()\n",
    "\n",
    "## prediction\n",
    "pred = torch.tensor([[1., 0.]], requires_grad=True)\n",
    "\n",
    "## generate a random index either  (0 or 1) as the label\n",
    "label = torch.empty(1, dtype=torch.long).random_(2)  ## \n",
    "\n",
    "## calculating the loss val \n",
    "oof = loss(pred, label)\n",
    "\n",
    "print(\"predicted probability distribution of classes = \", pred.flatten().tolist())\n",
    "print(\"actual index of class = \",label.item())\n",
    "print(\"loss = \", oof)"
   ]
  },
  {
   "cell_type": "markdown",
   "metadata": {},
   "source": [
    "###  For our experiments, I'll use a pre trained model trained to classify animals from Minecraft"
   ]
  },
  {
   "cell_type": "code",
   "execution_count": 289,
   "metadata": {
    "colab": {},
    "colab_type": "code",
    "id": "caOODlmpm2I8"
   },
   "outputs": [
    {
     "data": {
      "text/plain": [
       "Net(\n",
       "  (conv1): Conv2d(3, 7, kernel_size=(5, 5), stride=(1, 1))\n",
       "  (pool): MaxPool2d(kernel_size=3, stride=3, padding=0, dilation=1, ceil_mode=False)\n",
       "  (dropout): Dropout(p=0.5, inplace=False)\n",
       "  (conv2): Conv2d(7, 10, kernel_size=(5, 5), stride=(1, 1))\n",
       "  (fc1): Linear(in_features=10, out_features=10, bias=True)\n",
       "  (fc2): Linear(in_features=10, out_features=8, bias=True)\n",
       "  (fc3): Linear(in_features=8, out_features=4, bias=True)\n",
       ")"
      ]
     },
     "execution_count": 289,
     "metadata": {},
     "output_type": "execute_result"
    }
   ],
   "source": [
    "class Net(nn.Module):\n",
    "    def __init__(self):\n",
    "        super(Net, self).__init__()\n",
    "        self.conv1 = nn.Conv2d(3, 7, 5)\n",
    "        self.pool = nn.MaxPool2d(3, 3)\n",
    "        \n",
    "        self.dropout = nn.Dropout(p=0.5)\n",
    "        self.conv2 = nn.Conv2d(7, 10, 5)\n",
    "        \n",
    "        self.fc1 = nn.Linear(10, 10)\n",
    "        self.fc2 = nn.Linear(10, 8)\n",
    "        self.fc3 = nn.Linear(8, 4)\n",
    "\n",
    "    def forward(self, x):\n",
    "        x = self.pool(F.relu(self.conv1(x)))\n",
    "        x = self.pool(F.relu(self.conv2(x)))\n",
    "        x = x.view(x.size(0), -1)\n",
    "        x = F.relu(self.fc1(x))\n",
    "        x = F.relu(self.fc2(x))\n",
    "        x = self.fc3(x)\n",
    "        return x\n",
    "    \n",
    "hunter = Net()\n",
    "hunter.zero_grad()\n",
    "hunter.load_state_dict(torch.load(\"hunter.pt\"))\n",
    "hunter.eval()"
   ]
  },
  {
   "cell_type": "markdown",
   "metadata": {},
   "source": [
    "### Loading up a sample image and checking the model"
   ]
  },
  {
   "cell_type": "code",
   "execution_count": 275,
   "metadata": {},
   "outputs": [],
   "source": [
    "def result_to_prob_dist_percentage(output_tensor):\n",
    "    prob_dist = torch.softmax(pred.flatten(), dim = 0)\n",
    "    index = torch.argmax(prob_dist).item()\n",
    "    percentage = prob_dist[index]*100\n",
    "    return index, percentage.item()\n",
    "\n",
    "def tensor_to_image(tensor):\n",
    "    np_arr = tensor.squeeze(0).detach().numpy()\n",
    "    np_arr = np.moveaxis(np_arr, 0,2)\n",
    "    return np_arr.astype(np.uint8)\n",
    "\n",
    "def preprocess_image_for_model(img_path):\n",
    "    im = cv2.imread(\"images/chicken.png\")\n",
    "    im = cv2.cvtColor(im, cv2.COLOR_BGR2RGB)  # convert to RGB color space \n",
    "    plt.imshow(im)\n",
    "    im_moveaxis =  np.moveaxis(im, 2, 0) \n",
    "    input_tensor =  torch.from_numpy(im_moveaxis).unsqueeze(0).float()\n",
    "    return input_tensor"
   ]
  },
  {
   "cell_type": "code",
   "execution_count": 290,
   "metadata": {
    "scrolled": false
   },
   "outputs": [
    {
     "name": "stdout",
     "output_type": "stream",
     "text": [
      "Prediction =  chicken 99.99027252197266 %\n"
     ]
    },
    {
     "data": {
      "image/png": "[encoded data removed]",
      "text/plain": [
       "<Figure size 432x288 with 1 Axes>"
      ]
     },
     "metadata": {
      "needs_background": "light"
     },
     "output_type": "display_data"
    }
   ],
   "source": [
    "input_tensor = preprocess_image_for_model(\"images/chicken.png\")\n",
    "pred = hunter(input_tensor)\n",
    "index, percentage = result_to_prob_dist_percentage(pred)\n",
    "print (\"Prediction = \", animals[index], percentage, \"%\" )"
   ]
  },
  {
   "cell_type": "markdown",
   "metadata": {},
   "source": [
    "## Doing a single backpropagation through the network to extract the gradient\n",
    "* had to explicitly give gradients to the input tensor because it's been taken from a raw image, this wont be the case if the image was taken from a `DataLoader` class"
   ]
  },
  {
   "cell_type": "markdown",
   "metadata": {},
   "source": [
    "## Doing a backpropagation and extracting the gradient "
   ]
  },
  {
   "cell_type": "code",
   "execution_count": 298,
   "metadata": {},
   "outputs": [
    {
     "name": "stdout",
     "output_type": "stream",
     "text": [
      "loss =  9.727005090098828e-05\n",
      "torch.Size([1, 3, 25, 25])\n"
     ]
    }
   ],
   "source": [
    "label = torch.zeros(1, dtype=torch.long)  ## manually set the label to zero \n",
    "input_tensor.requires_grad = True  # gradients \n",
    "pred = hunter(input_tensor)\n",
    "loss_val = loss(pred,label)\n",
    "print(\"loss = \",loss_val.item())\n",
    "\n",
    "loss_val.backward() #backprop\n",
    "data_grad = input_tensor.grad.data\n",
    "print(data_grad.size())"
   ]
  },
  {
   "cell_type": "markdown",
   "metadata": {},
   "source": [
    "## Defining the FGSM method which will modify the image\n",
    "Fast Gradient Sign Method\n",
    "\n",
    "$$ new\\_image = old\\_image \\ + \\ epsilon*sign(data\\_grad) $$\n",
    "\n",
    "* `sign(data_grad)` gives the element wise signs of the data gradient\n",
    "* `epsilon` defines the \"strength\" of the perturbation of the image"
   ]
  },
  {
   "cell_type": "code",
   "execution_count": 299,
   "metadata": {},
   "outputs": [],
   "source": [
    "def fgsm_attack(image, epsilon, data_grad):\n",
    "    # Collect the element-wise sign of the data gradient\n",
    "    sign_data_grad = data_grad.sign()\n",
    "    # Create the perturbed image by adjusting each pixel of the input image\n",
    "    perturbed_image = image + epsilon*sign_data_grad\n",
    "        \n",
    "    delta = epsilon * sign_data_grad\n",
    "    perturbed_image = torch.clamp(perturbed_image, 0, 255)\n",
    "    \n",
    "    return perturbed_image, delta"
   ]
  },
  {
   "cell_type": "code",
   "execution_count": 305,
   "metadata": {},
   "outputs": [
    {
     "data": {
      "image/png": "[encoded data removed]",
      "text/plain": [
       "<Figure size 432x288 with 1 Axes>"
      ]
     },
     "metadata": {
      "needs_background": "light"
     },
     "output_type": "display_data"
    },
    {
     "name": "stdout",
     "output_type": "stream",
     "text": [
      "Prediction =  pig 75.61627197265625 %\n"
     ]
    }
   ],
   "source": [
    "bamboozle_tensor , addition= fgsm_attack(input_tensor, 4, data_grad)\n",
    "bamboozle_image = tensor_to_image(bamboozle_tensor)\n",
    "addition = tensor_to_image(addition)\n",
    "\n",
    "plt.imshow(bamboozle_image)\n",
    "plt.show()\n",
    "\n",
    "pred = hunter(bamboozle_tensor)\n",
    "index, percentage = result_to_prob_dist_percentage(pred)\n",
    "print (\"Prediction = \", animals[index], percentage, \"%\" )\n"
   ]
  },
  {
   "cell_type": "code",
   "execution_count": 306,
   "metadata": {},
   "outputs": [
    {
     "data": {
      "image/png": "[encoded data removed]",
      "text/plain": [
       "<Figure size 432x288 with 1 Axes>"
      ]
     },
     "metadata": {
      "needs_background": "light"
     },
     "output_type": "display_data"
    }
   ],
   "source": [
    "plt.imshow(addition)\n",
    "plt.show()"
   ]
  }
 ],
 "metadata": {
  "accelerator": "GPU",
  "colab": {
   "name": "what_on_earth_are_adversrial_attacks.ipynb",
   "provenance": []
  },
  "kernelspec": {
   "display_name": "Python 3",
   "language": "python",
   "name": "python3"
  },
  "language_info": {
   "codemirror_mode": {
    "name": "ipython",
    "version": 3
   },
   "file_extension": ".py",
   "mimetype": "text/x-python",
   "name": "python",
   "nbconvert_exporter": "python",
   "pygments_lexer": "ipython3",
   "version": "3.7.3"
  }
 },
 "nbformat": 4,
 "nbformat_minor": 1
}
