{
 "cells": [
  {
   "cell_type": "code",
   "execution_count": 1,
   "metadata": {},
   "outputs": [],
   "source": [
    "import torch\n",
    "import torch.nn as nn\n",
    "import torch.nn.functional as F\n",
    "import torch.optim as optim\n",
    "from torchvision import datasets, transforms\n",
    "import numpy as np\n",
    "import matplotlib.pyplot as plt\n",
    "import  cv2\n",
    "\n",
    "animals = [\"chicken\", \"pig\", \"panda\", \"terrain\"]"
   ]
  },
  {
   "cell_type": "markdown",
   "metadata": {},
   "source": [
    "# The idea here is to \"optimize\" an image to belong to a class that it dosn't belong to\n",
    "\n",
    "This is basically the reverse of what we saw in what_on_earth_are_adversarial_attacks.ipynb.\n",
    "\n",
    "## How are the images \"optimized\" using the same FGSM ?\n",
    "* The key here is to understand how FGSM actually worked.\n",
    "> In FGSM, we were tampering with the pixels which has a *positive* gradient and added a certain value `gradient * epsilon` to each of those pixels. This made the image deviate further and further away from the class it actually belongs to and thus maximising loss in the process. Note that this was done with a __positive epsilon__ value\n",
    "\n",
    "But for our current objective, we will try to \"optimize\" the image to a different class. This can be done by:\n",
    "* Doing a forward pass with an image of class `x` and with a label of `y`. Where `y` is the class to which we want to convert our image to. \n",
    "* Performing a backpropagation on the network and extracting the gradients on the input image.\n",
    "* Now instead of trying to maximise loss using the FGSM, we'll reduce the loss with a __negative epsilon__ FGSM.\n",
    "* This will help reduce the loss of the image with respect to the target class `y`, and with a sufficiently  negative epsilon value, the image gets mis-classified as the target class.\n",
    "\n",
    "\n",
    "If you didn't read the boring stuff above, just remember that \n",
    "* A __positive epsilon__ value will __un-optimize__ the image \n",
    "* A __negative epsilon__ value will __optimize__ the image for the given label class\n",
    "\n"
   ]
  },
  {
   "cell_type": "code",
   "execution_count": 7,
   "metadata": {},
   "outputs": [
    {
     "data": {
      "text/plain": [
       "Net(\n",
       "  (conv1): Conv2d(3, 7, kernel_size=(5, 5), stride=(1, 1))\n",
       "  (pool): MaxPool2d(kernel_size=3, stride=3, padding=0, dilation=1, ceil_mode=False)\n",
       "  (dropout): Dropout(p=0.5, inplace=False)\n",
       "  (conv2): Conv2d(7, 10, kernel_size=(5, 5), stride=(1, 1))\n",
       "  (fc1): Linear(in_features=10, out_features=10, bias=True)\n",
       "  (fc2): Linear(in_features=10, out_features=8, bias=True)\n",
       "  (fc3): Linear(in_features=8, out_features=4, bias=True)\n",
       ")"
      ]
     },
     "execution_count": 7,
     "metadata": {},
     "output_type": "execute_result"
    }
   ],
   "source": [
    "class Net(nn.Module):\n",
    "    def __init__(self):\n",
    "        super(Net, self).__init__()\n",
    "        self.conv1 = nn.Conv2d(3, 7, 5)\n",
    "        self.pool = nn.MaxPool2d(3, 3)\n",
    "        \n",
    "        self.dropout = nn.Dropout(p=0.5)\n",
    "        self.conv2 = nn.Conv2d(7, 10, 5)\n",
    "        \n",
    "        self.fc1 = nn.Linear(10, 10)\n",
    "        self.fc2 = nn.Linear(10, 8)\n",
    "        self.fc3 = nn.Linear(8, 4)\n",
    "\n",
    "    def forward(self, x):\n",
    "        x = self.pool(F.relu(self.conv1(x)))\n",
    "        x = self.pool(F.relu(self.conv2(x)))\n",
    "        x = x.view(x.size(0), -1)\n",
    "        x = F.relu(self.fc1(x))\n",
    "        x = F.relu(self.fc2(x))\n",
    "        x = self.fc3(x)\n",
    "        return x\n",
    "    \n",
    "hunter = Net()\n",
    "hunter.zero_grad()\n",
    "hunter.load_state_dict(torch.load(\"hunter.pt\"))\n",
    "hunter.eval()"
   ]
  },
  {
   "cell_type": "markdown",
   "metadata": {},
   "source": [
    "## Defining some utils\n",
    "\n"
   ]
  },
  {
   "cell_type": "code",
   "execution_count": 184,
   "metadata": {},
   "outputs": [],
   "source": [
    "def result_to_prob_dist_percentage(output_tensor):\n",
    "    prob_dist = torch.softmax(output_tensor.flatten(), dim = 0)\n",
    "    index = torch.argmax(prob_dist).item()\n",
    "    percentage = prob_dist[index]*100\n",
    "    return index, percentage.item()\n",
    "\n",
    "def tensor_to_image(tensor):\n",
    "    np_arr = tensor.squeeze(0).detach().numpy()\n",
    "    np_arr = np.moveaxis(np_arr, 0,2)\n",
    "    return np_arr.astype(np.uint8)\n",
    "\n",
    "def preprocess_image_for_model(img_path):\n",
    "    im = cv2.imread(img_path)\n",
    "    im = cv2.cvtColor(im, cv2.COLOR_BGR2RGB)  # convert to RGB color space \n",
    "    im_moveaxis =  np.moveaxis(im, 2, 0) \n",
    "    input_tensor =  torch.from_numpy(im_moveaxis).unsqueeze(0).float()\n",
    "    return input_tensor"
   ]
  },
  {
   "cell_type": "markdown",
   "metadata": {},
   "source": [
    "## Loading up and checking an image of the terrain"
   ]
  },
  {
   "cell_type": "code",
   "execution_count": 117,
   "metadata": {
    "scrolled": true
   },
   "outputs": [
    {
     "name": "stdout",
     "output_type": "stream",
     "text": [
      "Prediction =  terrain 99.9164810180664 %\n"
     ]
    },
    {
     "data": {
      "image/png": "[encoded data removed]",
      "text/plain": [
       "<Figure size 432x288 with 1 Axes>"
      ]
     },
     "metadata": {
      "needs_background": "light"
     },
     "output_type": "display_data"
    }
   ],
   "source": [
    "input_tensor = preprocess_image_for_model(\"images/terrain.png\")\n",
    "pred = hunter(input_tensor)\n",
    "index, percentage = result_to_prob_dist_percentage(pred)\n",
    "print (\"Prediction = \", animals[index], percentage, \"%\" )"
   ]
  },
  {
   "cell_type": "markdown",
   "metadata": {},
   "source": [
    "## Forward propagation with a manually set label\n",
    "* The manually set label is the target label, i.e the label we want to convert the image into.\n",
    "* In our case the target label is a `[0]` which refers to a chicken"
   ]
  },
  {
   "cell_type": "code",
   "execution_count": 118,
   "metadata": {},
   "outputs": [
    {
     "name": "stdout",
     "output_type": "stream",
     "text": [
      "loss =  11.767049789428711\n"
     ]
    }
   ],
   "source": [
    "loss = nn.CrossEntropyLoss()\n",
    "\n",
    "label = torch.tensor([0], dtype=torch.long)  ## manually set the label to zero \n",
    "input_tensor.requires_grad = True  # gradients \n",
    "pred = hunter(input_tensor)\n",
    "loss_val = loss(pred,label)\n",
    "print(\"loss = \",loss_val.item())\n",
    "\n"
   ]
  },
  {
   "cell_type": "markdown",
   "metadata": {},
   "source": [
    "## Backpropagation and the extraction of gradients from the input image for the \"reverse\" FGSM to be done\n",
    "* It is kind of justified to call it a form of \"reverse\" FGSM because we are \"optimizing\" the image to minimise loss \n",
    "* But the key is that we're optimizing it to belong to a different class"
   ]
  },
  {
   "cell_type": "code",
   "execution_count": 119,
   "metadata": {},
   "outputs": [
    {
     "name": "stdout",
     "output_type": "stream",
     "text": [
      "torch.Size([1, 3, 25, 25])\n"
     ]
    }
   ],
   "source": [
    "loss_val.backward() #backprop\n",
    "data_grad = input_tensor.grad.data\n",
    "print(data_grad.size())"
   ]
  },
  {
   "cell_type": "markdown",
   "metadata": {},
   "source": [
    "> Note: `torch.clamp()` makes sure that the pixels values which overshoot to a value over 255 after the perturbation are clamped down at a `[0:256]` range"
   ]
  },
  {
   "cell_type": "code",
   "execution_count": 120,
   "metadata": {},
   "outputs": [],
   "source": [
    "def fgsm_attack(image, epsilon, data_grad):\n",
    "    # Collect the element-wise sign of the data gradient\n",
    "    sign_data_grad = data_grad.sign()\n",
    "        # Create the perturbed image by adjusting each pixel of the input image\n",
    "    perturbed_image = image + epsilon*sign_data_grad\n",
    "        \n",
    "    delta = epsilon * sign_data_grad\n",
    "    perturbed_image = torch.clamp(perturbed_image, 0, 255)\n",
    "    \n",
    "    return perturbed_image, delta\n"
   ]
  },
  {
   "cell_type": "markdown",
   "metadata": {},
   "source": [
    "## Making the model see a chicken where there's none\n",
    "* Notice the use of a __negative epsilon__ on the `fgsm_attack()`\n",
    "* The weird image on the bottom might look like noise, but is actually the visualization of `epsilon*sign(data_grad)`"
   ]
  },
  {
   "cell_type": "code",
   "execution_count": 127,
   "metadata": {},
   "outputs": [
    {
     "data": {
      "image/png": "[encoded data removed]",
      "text/plain": [
       "<Figure size 432x288 with 1 Axes>"
      ]
     },
     "metadata": {
      "needs_background": "light"
     },
     "output_type": "display_data"
    },
    {
     "name": "stdout",
     "output_type": "stream",
     "text": [
      "Prediction =  chicken 90.20503997802734 %\n"
     ]
    },
    {
     "data": {
      "image/png": "[encoded data removed]",
      "text/plain": [
       "<Figure size 432x288 with 1 Axes>"
      ]
     },
     "metadata": {
      "needs_background": "light"
     },
     "output_type": "display_data"
    }
   ],
   "source": [
    "bamboozle_tensor , addition= fgsm_attack(input_tensor, -18, data_grad)\n",
    "bamboozle_image = tensor_to_image(bamboozle_tensor)\n",
    "addition = tensor_to_image(addition)\n",
    "\n",
    "plt.imshow(bamboozle_image)\n",
    "plt.show()\n",
    "\n",
    "pred = hunter(bamboozle_tensor)\n",
    "index, percentage = result_to_prob_dist_percentage(pred)\n",
    "print (\"Prediction = \", animals[index], percentage, \"%\" )\n",
    "\n",
    "plt.imshow(addition)\n",
    "plt.show()"
   ]
  },
  {
   "cell_type": "code",
   "execution_count": 253,
   "metadata": {},
   "outputs": [],
   "source": [
    "def spawn_ghost_animal_with_visualisation(image_path, model, epsilon, target_label):\n",
    "    \n",
    "    loss = nn.CrossEntropyLoss()\n",
    "    \n",
    "    input_tensor = preprocess_image_for_model(image_path)\n",
    "    input_tensor.requires_grad = True  # gradients \n",
    "    label = torch.tensor([target_label], dtype=torch.long)  \n",
    "    pred = model(input_tensor)\n",
    "    loss_val = loss(pred,label)\n",
    "    loss_val.backward() #backprop\n",
    "    data_grad = input_tensor.grad.data\n",
    "    bamboozle_tensor , addition= fgsm_attack(input_tensor, epsilon, data_grad)\n",
    "    bamboozle_image = tensor_to_image(bamboozle_tensor)\n",
    "    addition = tensor_to_image(addition)\n",
    "    predict = model(bamboozle_tensor)\n",
    "    index, perc = result_to_prob_dist_percentage(predict)\n",
    "#     print (\"Prediction = \", animals[index], perc, \"%\" )\n",
    "    \n",
    "    result = [animals[index], perc]\n",
    "\n",
    "    return bamboozle_image, result , addition"
   ]
  },
  {
   "cell_type": "code",
   "execution_count": 254,
   "metadata": {},
   "outputs": [],
   "source": [
    "images = []\n",
    "results = []\n",
    "deltas = []\n",
    "for m in range (1,3):\n",
    "    \n",
    "    image, res, delta = spawn_ghost_animal_with_visualisation(\"images/chicken.png\", hunter, -7, m)\n",
    "    images.append(image)\n",
    "    results.append(res)\n",
    "    deltas.append(delta)\n"
   ]
  },
  {
   "cell_type": "code",
   "execution_count": 276,
   "metadata": {},
   "outputs": [
    {
     "data": {
      "image/png": "[encoded data removed]",
      "text/plain": [
       "<Figure size 720x720 with 4 Axes>"
      ]
     },
     "metadata": {
      "needs_background": "light"
     },
     "output_type": "display_data"
    }
   ],
   "source": [
    "plt.rcParams[\"figure.figsize\"] = (10,10)\n",
    "fig, axs = plt.subplots(2,2)\n",
    "axs.flat[0].set(ylabel= \"delta\")\n",
    "axs.flat[2].set(ylabel= \"perturbed image\")\n",
    "\n",
    "\n",
    "for i in range(0, 2):\n",
    "    axs[0,i].imshow(deltas[i])\n",
    "    axs[1,i].imshow(images[i])\n",
    "    axs[1,i].set(xlabel = results[i][0] + \"  \"+ str(round(results[i][1],3)) + \"%\")\n"
   ]
  }
 ],
 "metadata": {
  "kernelspec": {
   "display_name": "Python 3",
   "language": "python",
   "name": "python3"
  },
  "language_info": {
   "codemirror_mode": {
    "name": "ipython",
    "version": 3
   },
   "file_extension": ".py",
   "mimetype": "text/x-python",
   "name": "python",
   "nbconvert_exporter": "python",
   "pygments_lexer": "ipython3",
   "version": "3.7.3"
  }
 },
 "nbformat": 4,
 "nbformat_minor": 4
}
